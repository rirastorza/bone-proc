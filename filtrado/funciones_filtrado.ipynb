{
 "cells": [
  {
   "cell_type": "markdown",
   "metadata": {},
   "source": [
    "# Filtrado con skimage\n",
    "\n",
    "Nota: esto me funciona con los siguientes programas y paquetes:\n",
    "\n",
    "- Python 3.5.2\n",
    "- Skimage 0.15.0\n",
    "- Imageio 2.5.0\n",
    "- 3DSlicer 4.8.1\n",
    "\n",
    "Todo está implementado en la carpeta scripts en el archivo de nombre __*funcion_filtrado.py*__.\n"
   ]
  },
  {
   "cell_type": "markdown",
   "metadata": {},
   "source": [
    "## Medición de hueso trabecular con MicroCT\n",
    "\n",
    "Supongamos que hemos medido la muestra y tenemos muchas imágenes del tipo a la que se muestra abajo (3c__rec0580.bmp).\n",
    "\n",
    "[<img src=\"3c__rec0580.bmp\" width=\"400\"/>](3c__rec0580.bmp)\n",
    "\n",
    "Estas imágenes son de alta resolución y no podremos construir el modelo a partir de ésta, nos quedará difícil de manejar con cualquier software de mallado. Nos quedaremos entonces con lo que se denomina una región de interés (ROI). En nuestro caso particular, seleccionaremos una región circular con cierta profundidad y de esta manera nos quedará una muestra cilíndrica de menor resolución y menores dimensiones también.\n",
    "\n",
    "Primero, importemos todas las herramientas necesarias.\n"
   ]
  },
  {
   "cell_type": "code",
   "execution_count": 1,
   "metadata": {},
   "outputs": [],
   "source": [
    "import matplotlib.pyplot as plt\n",
    "from pylab import imread\n",
    "import numpy as np\n",
    "from skimage import data, color\n",
    "from skimage.filters import threshold_otsu, threshold_local\n",
    "from skimage.morphology import disk\n",
    "from skimage.filters.rank import mean\n",
    "from skimage.transform import resize\n",
    "from skimage.draw import circle\n",
    "import imageio"
   ]
  },
  {
   "cell_type": "markdown",
   "metadata": {},
   "source": [
    "Luego vamos a hacer una función que tendrá como argumentos de entrada el archivo de la imagen, el centro de la región de interés, la resolución de la imágen (deltaX_MCT), y el radio de la región de interés (Lx)."
   ]
  },
  {
   "cell_type": "code",
   "execution_count": 2,
   "metadata": {},
   "outputs": [],
   "source": [
    "def preprocesaMCT(imagen,center,deltaX_MCT = 15.0e-6,Lx = 2.e-3):\n",
    "    \"\"\"\n",
    "    Centra y transforma en binaria\n",
    "    \"\"\"\n",
    "    BONE_MCT = color.rgb2gray(imread(imagen))\n",
    "    xcPix = center[0]\n",
    "    ycPix = center[1]\n",
    "    sampleROI_MCT = BONE_MCT[ycPix-int(Lx/deltaX_MCT):ycPix+int(Lx/deltaX_MCT),xcPix-int(Lx/deltaX_MCT):xcPix+int(Lx/deltaX_MCT)]\n",
    "    thresh = threshold_otsu(sampleROI_MCT)\n",
    "    binary = sampleROI_MCT > thresh\n",
    "    \n",
    "    loc_mean = mean(binary,disk(5))\n",
    "    thresh = threshold_otsu(loc_mean)\n",
    "    binary_filtrada = loc_mean > thresh\n",
    "    \n",
    "    #Región de interés circular\n",
    "    circulo = np.zeros((len(sampleROI_MCT), len(sampleROI_MCT)), dtype=np.uint8)\n",
    "    rr, cc = circle(len(sampleROI_MCT)/2,len(sampleROI_MCT)/2,int(Lx/deltaX_MCT))\n",
    "    circulo[rr, cc] = 255.\n",
    "   \n",
    "    return binary_filtrada*circulo"
   ]
  },
  {
   "cell_type": "markdown",
   "metadata": {},
   "source": [
    "Noten que en la función utilizamos varias funciones de skimage: threshold_otsu, mean, circle, etc. Sugiero que las vean, para saber qué hace cada una.\n",
    "\n",
    "Luego defino todos los parámetros que necesito para llamarla. Aquí debemos pasar el path donde se encuentran todas las imágenes en mi disco (variables *pathdatos*) y también debo saber con cual resolución se midió y dónde quiero el centro de la ROI."
   ]
  },
  {
   "cell_type": "code",
   "execution_count": 4,
   "metadata": {},
   "outputs": [],
   "source": [
    "pathdatos = '/home/ramiro/Documentos/CIC-2021-laptop/hueso micro modelobajafrecuencia/3D_electrical_conductivity/muestra3C/'\n",
    "deltaX_MCT_muestra = 15.0e-6\n",
    "Lx = 2.e-3\n",
    "center = [1120, 770] "
   ]
  },
  {
   "cell_type": "markdown",
   "metadata": {},
   "source": [
    "Ahora vamos a crear un __*for*__ en el cual llamaremos a las imágenes que necesitamos para llegar a la profundidad deseada y cortaremos un cilindro.\n",
    "\n",
    "Si quisieramos cambiar la resolución de la imágen (cosa que queremos porque si no es muy pesado si queremos levantar varias) podemos hacerlo con la función *resize* en cada foto y \"salteando fotos\". En este ejemplo decidimos reducir a la mitad el tamaño (*n=2*) y una profundidad de 2.5 mm (*deep*). Decidimos también utilizar las imágenes desde la número 580."
   ]
  },
  {
   "cell_type": "code",
   "execution_count": 6,
   "metadata": {},
   "outputs": [],
   "source": [
    "n = 2 #reducir tamaño a la mitad\n",
    "deep = 2.5e-3\n",
    "NN = 580+int(deep/(deltaX_MCT_muestra))\n",
    "Nimag = np.arange(580,NN,n)\n",
    "mm = 100"
   ]
  },
  {
   "cell_type": "markdown",
   "metadata": {},
   "source": [
    "Hagamos el for:"
   ]
  },
  {
   "cell_type": "code",
   "execution_count": 7,
   "metadata": {},
   "outputs": [
    {
     "name": "stderr",
     "output_type": "stream",
     "text": [
      "Lossy conversion from float64 to uint8. Range [0, 1]. Convert image to uint8 prior to saving to suppress this warning.\n",
      "Lossy conversion from float64 to uint8. Range [0, 1]. Convert image to uint8 prior to saving to suppress this warning.\n",
      "Lossy conversion from float64 to uint8. Range [0, 1]. Convert image to uint8 prior to saving to suppress this warning.\n",
      "Lossy conversion from float64 to uint8. Range [0, 1]. Convert image to uint8 prior to saving to suppress this warning.\n",
      "Lossy conversion from float64 to uint8. Range [0, 1]. Convert image to uint8 prior to saving to suppress this warning.\n",
      "Lossy conversion from float64 to uint8. Range [0, 1]. Convert image to uint8 prior to saving to suppress this warning.\n",
      "Lossy conversion from float64 to uint8. Range [0, 1]. Convert image to uint8 prior to saving to suppress this warning.\n",
      "Lossy conversion from float64 to uint8. Range [0, 1]. Convert image to uint8 prior to saving to suppress this warning.\n",
      "Lossy conversion from float64 to uint8. Range [0, 1]. Convert image to uint8 prior to saving to suppress this warning.\n",
      "Lossy conversion from float64 to uint8. Range [0, 1]. Convert image to uint8 prior to saving to suppress this warning.\n",
      "Lossy conversion from float64 to uint8. Range [0, 1]. Convert image to uint8 prior to saving to suppress this warning.\n",
      "Lossy conversion from float64 to uint8. Range [0, 1]. Convert image to uint8 prior to saving to suppress this warning.\n",
      "Lossy conversion from float64 to uint8. Range [0, 1]. Convert image to uint8 prior to saving to suppress this warning.\n",
      "Lossy conversion from float64 to uint8. Range [0, 1]. Convert image to uint8 prior to saving to suppress this warning.\n",
      "Lossy conversion from float64 to uint8. Range [0, 1]. Convert image to uint8 prior to saving to suppress this warning.\n",
      "Lossy conversion from float64 to uint8. Range [0, 1]. Convert image to uint8 prior to saving to suppress this warning.\n",
      "Lossy conversion from float64 to uint8. Range [0, 1]. Convert image to uint8 prior to saving to suppress this warning.\n",
      "Lossy conversion from float64 to uint8. Range [0, 1]. Convert image to uint8 prior to saving to suppress this warning.\n",
      "Lossy conversion from float64 to uint8. Range [0, 1]. Convert image to uint8 prior to saving to suppress this warning.\n",
      "Lossy conversion from float64 to uint8. Range [0, 1]. Convert image to uint8 prior to saving to suppress this warning.\n",
      "Lossy conversion from float64 to uint8. Range [0, 1]. Convert image to uint8 prior to saving to suppress this warning.\n",
      "Lossy conversion from float64 to uint8. Range [0, 1]. Convert image to uint8 prior to saving to suppress this warning.\n",
      "Lossy conversion from float64 to uint8. Range [0, 1]. Convert image to uint8 prior to saving to suppress this warning.\n",
      "Lossy conversion from float64 to uint8. Range [0, 1]. Convert image to uint8 prior to saving to suppress this warning.\n",
      "Lossy conversion from float64 to uint8. Range [0, 1]. Convert image to uint8 prior to saving to suppress this warning.\n",
      "Lossy conversion from float64 to uint8. Range [0, 1]. Convert image to uint8 prior to saving to suppress this warning.\n",
      "Lossy conversion from float64 to uint8. Range [0, 1]. Convert image to uint8 prior to saving to suppress this warning.\n",
      "Lossy conversion from float64 to uint8. Range [0, 1]. Convert image to uint8 prior to saving to suppress this warning.\n",
      "Lossy conversion from float64 to uint8. Range [0, 1]. Convert image to uint8 prior to saving to suppress this warning.\n",
      "Lossy conversion from float64 to uint8. Range [0, 1]. Convert image to uint8 prior to saving to suppress this warning.\n",
      "Lossy conversion from float64 to uint8. Range [0, 1]. Convert image to uint8 prior to saving to suppress this warning.\n",
      "Lossy conversion from float64 to uint8. Range [0, 1]. Convert image to uint8 prior to saving to suppress this warning.\n",
      "Lossy conversion from float64 to uint8. Range [0, 1]. Convert image to uint8 prior to saving to suppress this warning.\n",
      "Lossy conversion from float64 to uint8. Range [0, 1]. Convert image to uint8 prior to saving to suppress this warning.\n",
      "Lossy conversion from float64 to uint8. Range [0, 1]. Convert image to uint8 prior to saving to suppress this warning.\n",
      "Lossy conversion from float64 to uint8. Range [0, 1]. Convert image to uint8 prior to saving to suppress this warning.\n",
      "Lossy conversion from float64 to uint8. Range [0, 1]. Convert image to uint8 prior to saving to suppress this warning.\n",
      "Lossy conversion from float64 to uint8. Range [0, 1]. Convert image to uint8 prior to saving to suppress this warning.\n",
      "Lossy conversion from float64 to uint8. Range [0, 1]. Convert image to uint8 prior to saving to suppress this warning.\n",
      "Lossy conversion from float64 to uint8. Range [0, 1]. Convert image to uint8 prior to saving to suppress this warning.\n",
      "Lossy conversion from float64 to uint8. Range [0, 1]. Convert image to uint8 prior to saving to suppress this warning.\n",
      "Lossy conversion from float64 to uint8. Range [0, 1]. Convert image to uint8 prior to saving to suppress this warning.\n",
      "Lossy conversion from float64 to uint8. Range [0, 1]. Convert image to uint8 prior to saving to suppress this warning.\n",
      "Lossy conversion from float64 to uint8. Range [0, 1]. Convert image to uint8 prior to saving to suppress this warning.\n",
      "Lossy conversion from float64 to uint8. Range [0, 1]. Convert image to uint8 prior to saving to suppress this warning.\n",
      "Lossy conversion from float64 to uint8. Range [0, 1]. Convert image to uint8 prior to saving to suppress this warning.\n",
      "Lossy conversion from float64 to uint8. Range [0, 1]. Convert image to uint8 prior to saving to suppress this warning.\n",
      "Lossy conversion from float64 to uint8. Range [0, 1]. Convert image to uint8 prior to saving to suppress this warning.\n",
      "Lossy conversion from float64 to uint8. Range [0, 1]. Convert image to uint8 prior to saving to suppress this warning.\n",
      "Lossy conversion from float64 to uint8. Range [0, 1]. Convert image to uint8 prior to saving to suppress this warning.\n",
      "Lossy conversion from float64 to uint8. Range [0, 1]. Convert image to uint8 prior to saving to suppress this warning.\n",
      "Lossy conversion from float64 to uint8. Range [0, 1]. Convert image to uint8 prior to saving to suppress this warning.\n",
      "Lossy conversion from float64 to uint8. Range [0, 1]. Convert image to uint8 prior to saving to suppress this warning.\n",
      "Lossy conversion from float64 to uint8. Range [0, 1]. Convert image to uint8 prior to saving to suppress this warning.\n",
      "Lossy conversion from float64 to uint8. Range [0, 1]. Convert image to uint8 prior to saving to suppress this warning.\n",
      "Lossy conversion from float64 to uint8. Range [0, 1]. Convert image to uint8 prior to saving to suppress this warning.\n",
      "Lossy conversion from float64 to uint8. Range [0, 1]. Convert image to uint8 prior to saving to suppress this warning.\n",
      "Lossy conversion from float64 to uint8. Range [0, 1]. Convert image to uint8 prior to saving to suppress this warning.\n",
      "Lossy conversion from float64 to uint8. Range [0, 1]. Convert image to uint8 prior to saving to suppress this warning.\n",
      "Lossy conversion from float64 to uint8. Range [0, 1]. Convert image to uint8 prior to saving to suppress this warning.\n",
      "Lossy conversion from float64 to uint8. Range [0, 1]. Convert image to uint8 prior to saving to suppress this warning.\n",
      "Lossy conversion from float64 to uint8. Range [0, 1]. Convert image to uint8 prior to saving to suppress this warning.\n",
      "Lossy conversion from float64 to uint8. Range [0, 1]. Convert image to uint8 prior to saving to suppress this warning.\n",
      "Lossy conversion from float64 to uint8. Range [0, 1]. Convert image to uint8 prior to saving to suppress this warning.\n",
      "Lossy conversion from float64 to uint8. Range [0, 1]. Convert image to uint8 prior to saving to suppress this warning.\n",
      "Lossy conversion from float64 to uint8. Range [0, 1]. Convert image to uint8 prior to saving to suppress this warning.\n",
      "Lossy conversion from float64 to uint8. Range [0, 1]. Convert image to uint8 prior to saving to suppress this warning.\n",
      "Lossy conversion from float64 to uint8. Range [0, 1]. Convert image to uint8 prior to saving to suppress this warning.\n",
      "Lossy conversion from float64 to uint8. Range [0, 1]. Convert image to uint8 prior to saving to suppress this warning.\n"
     ]
    },
    {
     "name": "stderr",
     "output_type": "stream",
     "text": [
      "Lossy conversion from float64 to uint8. Range [0, 1]. Convert image to uint8 prior to saving to suppress this warning.\n",
      "Lossy conversion from float64 to uint8. Range [0, 1]. Convert image to uint8 prior to saving to suppress this warning.\n",
      "Lossy conversion from float64 to uint8. Range [0, 1]. Convert image to uint8 prior to saving to suppress this warning.\n",
      "Lossy conversion from float64 to uint8. Range [0, 1]. Convert image to uint8 prior to saving to suppress this warning.\n",
      "Lossy conversion from float64 to uint8. Range [0, 1]. Convert image to uint8 prior to saving to suppress this warning.\n",
      "Lossy conversion from float64 to uint8. Range [0, 1]. Convert image to uint8 prior to saving to suppress this warning.\n",
      "Lossy conversion from float64 to uint8. Range [0, 1]. Convert image to uint8 prior to saving to suppress this warning.\n",
      "Lossy conversion from float64 to uint8. Range [0, 1]. Convert image to uint8 prior to saving to suppress this warning.\n",
      "Lossy conversion from float64 to uint8. Range [0, 1]. Convert image to uint8 prior to saving to suppress this warning.\n",
      "Lossy conversion from float64 to uint8. Range [0, 1]. Convert image to uint8 prior to saving to suppress this warning.\n",
      "Lossy conversion from float64 to uint8. Range [0, 1]. Convert image to uint8 prior to saving to suppress this warning.\n",
      "Lossy conversion from float64 to uint8. Range [0, 1]. Convert image to uint8 prior to saving to suppress this warning.\n",
      "Lossy conversion from float64 to uint8. Range [0, 1]. Convert image to uint8 prior to saving to suppress this warning.\n",
      "Lossy conversion from float64 to uint8. Range [0, 1]. Convert image to uint8 prior to saving to suppress this warning.\n"
     ]
    }
   ],
   "source": [
    "for x in Nimag:\n",
    "    imagen = pathdatos+'3c__rec0'+str(int(x))+'.bmp'\n",
    "    binary_filtrada = preprocesaMCT(imagen,center, deltaX_MCT = deltaX_MCT_muestra, Lx = Lx)\n",
    "    image_resized = resize(binary_filtrada, (binary_filtrada.shape[0] / n, binary_filtrada.shape[1] / n),)#anti_aliasing=True)\n",
    "    imageio.imwrite('3c_binaria_norm_'+str(mm)+'.png', image_resized)\n",
    "    mm = mm+1"
   ]
  },
  {
   "cell_type": "markdown",
   "metadata": {},
   "source": [
    "Esto creará en el lugar que estemos las figuras en extensión .png con el nuevo tamaño y resolución.\n",
    "\n",
    "Finalmente podemos graficarlo."
   ]
  },
  {
   "cell_type": "code",
   "execution_count": 8,
   "metadata": {},
   "outputs": [
    {
     "data": {
      "image/png": "[encoded data removed]",
      "text/plain": [
       "<Figure size 432x288 with 3 Axes>"
      ]
     },
     "metadata": {
      "needs_background": "light"
     },
     "output_type": "display_data"
    }
   ],
   "source": [
    "BONE_MCT = color.rgb2gray(imread(imagen))\n",
    "\n",
    "from matplotlib.patches import Circle\n",
    "from matplotlib.collections import PatchCollection\n",
    "circle = Circle((center[0], center[1]),int(Lx/deltaX_MCT_muestra))\n",
    "patches = []\n",
    "patches.append(circle)\n",
    "p = PatchCollection(patches,'red', alpha=0.4)\n",
    "\n",
    "fig3, (ax1,ax2,ax3) = plt.subplots(ncols=3, nrows=1)#,figsize=(4, 3))\n",
    "ax1.imshow(BONE_MCT, cmap=plt.cm.gray, interpolation='nearest')\n",
    "ax1.add_collection(p)\n",
    "ax1.set_title('MicroCT')\n",
    "ax2.imshow(binary_filtrada, cmap=plt.cm.gray, interpolation='nearest')\n",
    "ax2.set_title('Filtrada threshold_otsu')\n",
    "ax3.imshow(image_resized, cmap=plt.cm.gray, interpolation='nearest')\n",
    "ax3.set_title('Filtrada y resized')\n",
    "\n",
    "#scipy.misc.imsave('2c_binaria_norm__rec0700.png', binary_filtrada)\n",
    "plt.show()"
   ]
  },
  {
   "cell_type": "markdown",
   "metadata": {},
   "source": [
    "Una vez obtenidas todas las imágenes se puede crear una superficie en 3D de la matriz ósea utilizando [3DSlicer](https://www.slicer.org/). Se pueden seguir las intrucciones que les dejé en el siguiente [video](https://youtu.be/OoR3KFTUuqQ).\n",
    "\n",
    "Remarcamos que se debe setear en el programa con la herramienta *Volumes* el parámetro *image spacing* para que 3DSlicer sepa cuál es la distancia en z entre imágen e imágen.\n",
    "\n",
    "El siguiente paso es reducir la cantidad de elementos y limpiar un poco la malla con [Meshlab](https://www.meshlab.net/). Este software tiene muchas herramientas para trabajar con mallas, cortarlas, bajar la cantidad de elementos, suavizarlas, etc. Se pueden seguir las instrucciones en el siguiente [video](https://youtu.be/cZePY1pwk_Y).\n"
   ]
  },
  {
   "cell_type": "code",
   "execution_count": null,
   "metadata": {},
   "outputs": [],
   "source": []
  }
 ],
 "metadata": {
  "kernelspec": {
   "display_name": "Python 3",
   "language": "python",
   "name": "python3"
  },
  "language_info": {
   "codemirror_mode": {
    "name": "ipython",
    "version": 3
   },
   "file_extension": ".py",
   "mimetype": "text/x-python",
   "name": "python",
   "nbconvert_exporter": "python",
   "pygments_lexer": "ipython3",
   "version": "3.5.2"
  }
 },
 "nbformat": 4,
 "nbformat_minor": 2
}
